{
 "cells": [
  {
   "cell_type": "code",
   "execution_count": 1,
   "metadata": {
    "collapsed": true,
    "ExecuteTime": {
     "end_time": "2023-05-02T03:13:35.027356795Z",
     "start_time": "2023-05-02T03:13:34.421070511Z"
    }
   },
   "outputs": [
    {
     "data": {
      "text/plain": "\n[-2. -1.  0.  1.  2.]\n<NDArray 5 @cpu(0)>"
     },
     "execution_count": 1,
     "metadata": {},
     "output_type": "execute_result"
    }
   ],
   "source": [
    "\"\"\"\n",
    "不含模型参数的自定义层\n",
    "\"\"\"\n",
    "from mxnet import gluon, nd\n",
    "from mxnet.gluon import nn\n",
    "\n",
    "#  继承Block类，重写init, forward.\n",
    "class CenteredLayer(nn.Block):\n",
    "    def __init__(self):\n",
    "        super(CenteredLayer, self).__init__()\n",
    "\n",
    "    def forward(self, x):\n",
    "        return x - x.mean()\n",
    "\n",
    "\n",
    "layer = CenteredLayer()\n",
    "layer(nd.array([1, 2, 3, 4, 5]))"
   ]
  },
  {
   "cell_type": "code",
   "execution_count": 2,
   "outputs": [],
   "source": [
    "\"\"\"\n",
    "用它来构造更复杂的模型\n",
    "\"\"\"\n",
    "net = nn.Sequential()\n",
    "net.add(nn.Dense(128),\n",
    "        CenteredLayer())"
   ],
   "metadata": {
    "collapsed": false,
    "ExecuteTime": {
     "end_time": "2023-05-02T03:15:09.676442417Z",
     "start_time": "2023-05-02T03:15:09.635508917Z"
    }
   }
  },
  {
   "cell_type": "code",
   "execution_count": 5,
   "outputs": [
    {
     "data": {
      "text/plain": "4.8748916e-10"
     },
     "execution_count": 5,
     "metadata": {},
     "output_type": "execute_result"
    }
   ],
   "source": [
    "#  打印自定义层各个输出的均值\n",
    "net.initialize()\n",
    "y = net(nd.random.uniform(shape=(4,8)))\n",
    "y.mean().asscalar()"
   ],
   "metadata": {
    "collapsed": false,
    "ExecuteTime": {
     "end_time": "2023-05-02T03:17:55.760763845Z",
     "start_time": "2023-05-02T03:17:55.757109941Z"
    }
   }
  },
  {
   "cell_type": "code",
   "execution_count": 6,
   "outputs": [
    {
     "data": {
      "text/plain": "(\n  Parameter params (shape=(2, 3), dtype=<class 'numpy.float32'>)\n)"
     },
     "execution_count": 6,
     "metadata": {},
     "output_type": "execute_result"
    }
   ],
   "source": [
    "\"\"\"\n",
    "含模型参数的自定义层\n",
    "\"\"\"\n",
    "params = gluon.ParameterDict()\n",
    "params.get('params', shape=(2, 3))\n",
    "params"
   ],
   "metadata": {
    "collapsed": false,
    "ExecuteTime": {
     "end_time": "2023-05-02T03:22:21.156508442Z",
     "start_time": "2023-05-02T03:22:21.115360470Z"
    }
   }
  },
  {
   "cell_type": "code",
   "execution_count": 7,
   "outputs": [
    {
     "data": {
      "text/plain": "mydense0_ (\n  Parameter mydense0_weight (shape=(5, 3), dtype=<class 'numpy.float32'>)\n  Parameter mydense0_bias (shape=(3,), dtype=<class 'numpy.float32'>)\n)"
     },
     "execution_count": 7,
     "metadata": {},
     "output_type": "execute_result"
    }
   ],
   "source": [
    "\"\"\"\n",
    "以下实现一个含权重和偏差参数的全连接层。\n",
    "\n",
    "\"\"\"\n",
    "class MyDense(nn.Block):\n",
    "    def __init__(self, units, in_units):\n",
    "        super(MyDense, self).__init__()\n",
    "        self.weight = self.params.get('weight', shape=(in_units, units))\n",
    "        self.bias = self.params.get('bias', shape=(units, ))\n",
    "    def forward(self, x):\n",
    "        linear = nd.dot(x, self.weight.data()) + self.bias.data()\n",
    "        return nd.relu(linear)\n",
    "\n",
    "\"\"\"\n",
    "实例化MyDense类并访问它的模型参数。\n",
    "\n",
    "\"\"\"\n",
    "dense = MyDense(units=3, in_units=5)\n",
    "dense.params"
   ],
   "metadata": {
    "collapsed": false,
    "ExecuteTime": {
     "end_time": "2023-05-02T03:29:03.040215082Z",
     "start_time": "2023-05-02T03:29:02.995915894Z"
    }
   }
  },
  {
   "cell_type": "code",
   "execution_count": 8,
   "outputs": [
    {
     "data": {
      "text/plain": "\n[[0.06277736 0.08472438 0.        ]\n [0.10200627 0.0789248  0.        ]]\n<NDArray 2x3 @cpu(0)>"
     },
     "execution_count": 8,
     "metadata": {},
     "output_type": "execute_result"
    }
   ],
   "source": [
    "\"\"\"\n",
    "直接使用自定义层做前向计算。\n",
    "\"\"\"\n",
    "dense.initialize()\n",
    "dense(nd.random.uniform(shape=(2, 5)))"
   ],
   "metadata": {
    "collapsed": false,
    "ExecuteTime": {
     "end_time": "2023-05-02T03:30:25.894376744Z",
     "start_time": "2023-05-02T03:30:25.887549810Z"
    }
   }
  },
  {
   "cell_type": "code",
   "execution_count": 9,
   "outputs": [
    {
     "data": {
      "text/plain": "\n[[0.01334638]\n [0.00830848]]\n<NDArray 2x1 @cpu(0)>"
     },
     "execution_count": 9,
     "metadata": {},
     "output_type": "execute_result"
    }
   ],
   "source": [
    "\"\"\"\n",
    "使用自定义层构造模型\n",
    "\"\"\"\n",
    "net = nn.Sequential()\n",
    "net.add(MyDense(8, in_units=64),\n",
    "        MyDense(1, in_units=8))\n",
    "net.initialize()\n",
    "net(nd.random.uniform(shape=(2, 64)))"
   ],
   "metadata": {
    "collapsed": false,
    "ExecuteTime": {
     "end_time": "2023-05-02T03:33:35.292197708Z",
     "start_time": "2023-05-02T03:33:35.249804247Z"
    }
   }
  },
  {
   "cell_type": "code",
   "execution_count": null,
   "outputs": [],
   "source": [],
   "metadata": {
    "collapsed": false
   }
  }
 ],
 "metadata": {
  "kernelspec": {
   "display_name": "Python 3",
   "language": "python",
   "name": "python3"
  },
  "language_info": {
   "codemirror_mode": {
    "name": "ipython",
    "version": 2
   },
   "file_extension": ".py",
   "mimetype": "text/x-python",
   "name": "python",
   "nbconvert_exporter": "python",
   "pygments_lexer": "ipython2",
   "version": "2.7.6"
  }
 },
 "nbformat": 4,
 "nbformat_minor": 0
}
