{
 "cells": [
  {
   "cell_type": "code",
   "execution_count": 2,
   "metadata": {
    "collapsed": true,
    "ExecuteTime": {
     "end_time": "2023-05-04T11:24:16.790811364Z",
     "start_time": "2023-05-04T11:24:16.747072392Z"
    }
   },
   "outputs": [],
   "source": [
    "from mxnet import nd\n",
    "import random\n",
    "\n",
    "#  初始化卷积核\n",
    "#  卷积核满足的分布函数\n",
    "def myfunction(x):\n",
    "    return x\n",
    "\n",
    "def kernel(kernel_size, MyFunction):\n",
    "    kernel_grid = nd.zeros(shape=kernel_size)\n",
    "    for i in range(kernel_grid.shape[0]):\n",
    "        for j in range(kernel_grid.shape[1]):\n",
    "            kernel_grid[i][j] = MyFunction(random.randint(1,10))\n",
    "    return kernel_grid\n",
    "def Conv():\n",
    "    pass"
   ]
  },
  {
   "cell_type": "code",
   "execution_count": 3,
   "outputs": [
    {
     "data": {
      "text/plain": "\n[[ 2.  7.  3.]\n [10.  2.  4.]\n [ 3.  2.  4.]]\n<NDArray 3x3 @cpu(0)>"
     },
     "execution_count": 3,
     "metadata": {},
     "output_type": "execute_result"
    }
   ],
   "source": [
    "kernel((3,3), myfunction)"
   ],
   "metadata": {
    "collapsed": false,
    "ExecuteTime": {
     "end_time": "2023-05-04T11:24:50.261867974Z",
     "start_time": "2023-05-04T11:24:50.254466992Z"
    }
   }
  },
  {
   "cell_type": "code",
   "execution_count": null,
   "outputs": [],
   "source": [],
   "metadata": {
    "collapsed": false
   }
  }
 ],
 "metadata": {
  "kernelspec": {
   "display_name": "Python 3",
   "language": "python",
   "name": "python3"
  },
  "language_info": {
   "codemirror_mode": {
    "name": "ipython",
    "version": 2
   },
   "file_extension": ".py",
   "mimetype": "text/x-python",
   "name": "python",
   "nbconvert_exporter": "python",
   "pygments_lexer": "ipython2",
   "version": "2.7.6"
  }
 },
 "nbformat": 4,
 "nbformat_minor": 0
}
