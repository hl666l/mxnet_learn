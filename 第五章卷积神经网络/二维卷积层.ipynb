{
 "cells": [
  {
   "cell_type": "code",
   "execution_count": 2,
   "metadata": {
    "collapsed": true,
    "ExecuteTime": {
     "end_time": "2023-05-04T06:22:14.074456857Z",
     "start_time": "2023-05-04T06:22:13.445714229Z"
    }
   },
   "outputs": [],
   "source": [
    "\"\"\"\n",
    "实现二维互相关运算\n",
    "\"\"\"\n",
    "from mxnet import autograd, nd\n",
    "from mxnet.gluon import nn\n",
    "\n",
    "def corr2d(x, k):\n",
    "    \"\"\"\n",
    "    :param x: 输入\n",
    "    :param k: 卷积核\n",
    "    :return: 计算后的矩阵\n",
    "    \"\"\"\n",
    "    h, w = k.shape  # 获取卷积核尺寸\n",
    "    y = nd.zeros((x.shape[0] - h + 1, x.shape[1] - w + 1))  # 计算通过这次卷积后生成的矩阵的大小，并生成相应大小的0矩阵\n",
    "    \"\"\"\n",
    "    一行一行的计算得出y的值\n",
    "    \"\"\"\n",
    "    for i in range(y.shape[0]):\n",
    "        for j in range(y.shape[1]):\n",
    "            y[i, j] = (x[i: i + h, j: j + w] * k).sum()\n",
    "    return y\n",
    "\n"
   ]
  },
  {
   "cell_type": "code",
   "execution_count": 3,
   "outputs": [
    {
     "data": {
      "text/plain": "\n[[19. 25.]\n [37. 43.]]\n<NDArray 2x2 @cpu(0)>"
     },
     "execution_count": 3,
     "metadata": {},
     "output_type": "execute_result"
    }
   ],
   "source": [
    "\"\"\"\n",
    "调用上面的函数验证\n",
    "\"\"\"\n",
    "x = nd.array([[0, 1, 2], [3, 4, 5], [6, 7, 8]])\n",
    "k = nd.array([[0, 1], [2, 3]])\n",
    "corr2d(x, k)"
   ],
   "metadata": {
    "collapsed": false,
    "ExecuteTime": {
     "end_time": "2023-05-04T06:22:16.684167048Z",
     "start_time": "2023-05-04T06:22:16.673284972Z"
    }
   }
  },
  {
   "cell_type": "code",
   "execution_count": 4,
   "outputs": [
    {
     "data": {
      "text/plain": "numpy.float32"
     },
     "execution_count": 4,
     "metadata": {},
     "output_type": "execute_result"
    }
   ],
   "source": [
    "corr2d(x, k).dtype"
   ],
   "metadata": {
    "collapsed": false,
    "ExecuteTime": {
     "end_time": "2023-05-04T06:22:20.153038133Z",
     "start_time": "2023-05-04T06:22:20.146378325Z"
    }
   }
  },
  {
   "cell_type": "code",
   "execution_count": 5,
   "outputs": [],
   "source": [
    "\"\"\"\n",
    "实现二维卷积层\n",
    "\"\"\"\n",
    "class Conv2D(nn.Block):\n",
    "    def __init__(self, kernel_size, **kwargs):\n",
    "        super(Conv2D, self).__init__(**kwargs)\n",
    "        \"\"\"\n",
    "        生成这次卷积操作的，卷积核的数值，以及需要的偏置值。\n",
    "        \"\"\"\n",
    "        self.weight = self.params.get('weight', shape=kernel_size)\n",
    "        self.bias = self.params.get('bias',shape=(1,))  # 只需要一行，系统会利用广播机制扩展成契合的矩阵\n",
    "    def forward(self, x):\n",
    "        return corr2d(x, self.weight.data()) + self.bias.data()\n"
   ],
   "metadata": {
    "collapsed": false,
    "ExecuteTime": {
     "end_time": "2023-05-04T06:22:23.190191457Z",
     "start_time": "2023-05-04T06:22:23.187692357Z"
    }
   }
  },
  {
   "cell_type": "code",
   "execution_count": 6,
   "outputs": [
    {
     "data": {
      "text/plain": "\n[[1. 1. 0. 0. 0. 0. 1. 1.]\n [1. 1. 0. 0. 0. 0. 1. 1.]\n [1. 1. 0. 0. 0. 0. 1. 1.]\n [1. 1. 0. 0. 0. 0. 1. 1.]\n [1. 1. 0. 0. 0. 0. 1. 1.]\n [1. 1. 0. 0. 0. 0. 1. 1.]]\n<NDArray 6x8 @cpu(0)>"
     },
     "execution_count": 6,
     "metadata": {},
     "output_type": "execute_result"
    }
   ],
   "source": [
    "\"\"\"\n",
    "应用举例\n",
    "图像中物体边缘检测\n",
    "\"\"\"\n",
    "x = nd.ones((6, 8))\n",
    "x[:, 2:6] = 0\n",
    "x"
   ],
   "metadata": {
    "collapsed": false,
    "ExecuteTime": {
     "end_time": "2023-05-04T06:22:25.737880771Z",
     "start_time": "2023-05-04T06:22:25.735924901Z"
    }
   }
  },
  {
   "cell_type": "code",
   "execution_count": 7,
   "outputs": [],
   "source": [
    "#  构造卷积核\n",
    "k = nd.array([[1, -1]])"
   ],
   "metadata": {
    "collapsed": false,
    "ExecuteTime": {
     "end_time": "2023-05-04T06:23:00.498884873Z",
     "start_time": "2023-05-04T06:23:00.494942942Z"
    }
   }
  },
  {
   "cell_type": "code",
   "execution_count": 8,
   "outputs": [],
   "source": [
    "#  执行卷积操作\n",
    "y = corr2d(x, k)"
   ],
   "metadata": {
    "collapsed": false,
    "ExecuteTime": {
     "end_time": "2023-05-04T06:23:12.010095526Z",
     "start_time": "2023-05-04T06:23:11.998360865Z"
    }
   }
  },
  {
   "cell_type": "code",
   "execution_count": 10,
   "outputs": [
    {
     "data": {
      "text/plain": "\n[[ 0.  1.  0.  0.  0. -1.  0.]\n [ 0.  1.  0.  0.  0. -1.  0.]\n [ 0.  1.  0.  0.  0. -1.  0.]\n [ 0.  1.  0.  0.  0. -1.  0.]\n [ 0.  1.  0.  0.  0. -1.  0.]\n [ 0.  1.  0.  0.  0. -1.  0.]]\n<NDArray 6x7 @cpu(0)>"
     },
     "execution_count": 10,
     "metadata": {},
     "output_type": "execute_result"
    }
   ],
   "source": [
    "y  # 由此可见卷积操作会在一定程度上得到一张图片的形状"
   ],
   "metadata": {
    "collapsed": false,
    "ExecuteTime": {
     "end_time": "2023-05-04T06:34:22.049155656Z",
     "start_time": "2023-05-04T06:34:22.008683967Z"
    }
   }
  },
  {
   "cell_type": "code",
   "execution_count": 12,
   "outputs": [],
   "source": [
    "conv2d = nn.Conv2D(1, kernel_size=(1, 2))\n",
    "conv2d.initialize()\n",
    "x = x.reshape((1, 1, 6, 8))  # 数据格式（样本数目，通道数， 高， 宽）\n",
    "y = y.reshape((1, 1, 6, 7))"
   ],
   "metadata": {
    "collapsed": false,
    "ExecuteTime": {
     "end_time": "2023-05-04T06:35:09.016799824Z",
     "start_time": "2023-05-04T06:35:08.975693623Z"
    }
   }
  },
  {
   "cell_type": "code",
   "execution_count": 13,
   "outputs": [
    {
     "name": "stdout",
     "output_type": "stream",
     "text": [
      "batch 2 , loss 4.949\n",
      "batch 4 , loss 0.831\n",
      "batch 6 , loss 0.140\n",
      "batch 8 , loss 0.024\n",
      "batch 10 , loss 0.004\n"
     ]
    },
    {
     "name": "stderr",
     "output_type": "stream",
     "text": [
      "[14:38:28] /work/mxnet/src/base.cc:79: cuDNN lib mismatch: linked-against version 8801 != compiled-against version 8500.  Set MXNET_CUDNN_LIB_CHECKING=0 to quiet this warning.\n"
     ]
    }
   ],
   "source": [
    "for i in range(10):\n",
    "    with autograd.record():\n",
    "        y_hat = conv2d(x)\n",
    "        l = (y_hat  - y) ** 2\n",
    "    l.backward()\n",
    "    conv2d.weight.data()[:] -= 3e-2 * conv2d.weight.grad()\n",
    "    if (i + 1) % 2 == 0:\n",
    "        print('batch %d , loss %.3f' % (i + 1, l.sum().asscalar()))\n"
   ],
   "metadata": {
    "collapsed": false,
    "ExecuteTime": {
     "end_time": "2023-05-04T06:38:28.531093589Z",
     "start_time": "2023-05-04T06:38:28.485960676Z"
    }
   }
  },
  {
   "cell_type": "code",
   "execution_count": 14,
   "outputs": [
    {
     "data": {
      "text/plain": "\n[[ 0.9895    -0.9873705]]\n<NDArray 1x2 @cpu(0)>"
     },
     "execution_count": 14,
     "metadata": {},
     "output_type": "execute_result"
    }
   ],
   "source": [
    "conv2d.weight.data().reshape(1, 2)"
   ],
   "metadata": {
    "collapsed": false,
    "ExecuteTime": {
     "end_time": "2023-05-04T06:41:48.701170213Z",
     "start_time": "2023-05-04T06:41:48.658637935Z"
    }
   }
  },
  {
   "cell_type": "code",
   "execution_count": null,
   "outputs": [],
   "source": [
    "\"\"\"\n",
    "特征图和感受野\n",
    "\n",
    "\"\"\""
   ],
   "metadata": {
    "collapsed": false
   }
  }
 ],
 "metadata": {
  "kernelspec": {
   "display_name": "Python 3",
   "language": "python",
   "name": "python3"
  },
  "language_info": {
   "codemirror_mode": {
    "name": "ipython",
    "version": 2
   },
   "file_extension": ".py",
   "mimetype": "text/x-python",
   "name": "python",
   "nbconvert_exporter": "python",
   "pygments_lexer": "ipython2",
   "version": "2.7.6"
  }
 },
 "nbformat": 4,
 "nbformat_minor": 0
}
