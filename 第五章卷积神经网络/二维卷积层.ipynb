{
 "cells": [
  {
   "cell_type": "code",
   "execution_count": 5,
   "metadata": {
    "collapsed": true,
    "ExecuteTime": {
     "end_time": "2023-05-04T03:29:27.709177635Z",
     "start_time": "2023-05-04T03:29:27.665289861Z"
    }
   },
   "outputs": [],
   "source": [
    "\"\"\"\n",
    "实现二维互相关运算\n",
    "\"\"\"\n",
    "from mxnet import autograd, nd\n",
    "from mxnet.gluon import nn\n",
    "\n",
    "def corr2d(x, k):\n",
    "    \"\"\"\n",
    "    :param x: 输入\n",
    "    :param k: 卷积核\n",
    "    :return: 计算后的矩阵\n",
    "    \"\"\"\n",
    "    h, w = k.shape  # 获取卷积核尺寸\n",
    "    y = nd.zeros((x.shape[0] - h + 1, x.shape[1] - w + 1))  # 计算通过这次卷积后生成的矩阵的大小，并生成相应大小的0矩阵\n",
    "    \"\"\"\n",
    "    一行一行的计算y的值\n",
    "    \"\"\"\n",
    "    for i in range(y.shape[0]):\n",
    "        for j in range(y.shape[1]):\n",
    "            y[i, j] = (x[i: i + h, j: j + w] * k).sum()\n",
    "    return y\n",
    "\n"
   ]
  },
  {
   "cell_type": "code",
   "execution_count": 8,
   "outputs": [
    {
     "data": {
      "text/plain": "\n[[19. 25.]\n [37. 43.]]\n<NDArray 2x2 @cpu(0)>"
     },
     "execution_count": 8,
     "metadata": {},
     "output_type": "execute_result"
    }
   ],
   "source": [
    "\"\"\"\n",
    "调用上面的函数验证\n",
    "\"\"\"\n",
    "x = nd.array([[0, 1, 2], [3, 4, 5], [6, 7, 8]])\n",
    "k = nd.array([[0, 1], [2, 3]])\n",
    "corr2d(x, k)"
   ],
   "metadata": {
    "collapsed": false,
    "ExecuteTime": {
     "end_time": "2023-05-04T03:30:01.748576732Z",
     "start_time": "2023-05-04T03:30:01.745057480Z"
    }
   }
  },
  {
   "cell_type": "code",
   "execution_count": 9,
   "outputs": [
    {
     "data": {
      "text/plain": "numpy.float32"
     },
     "execution_count": 9,
     "metadata": {},
     "output_type": "execute_result"
    }
   ],
   "source": [
    "corr2d(x, k).dtype"
   ],
   "metadata": {
    "collapsed": false,
    "ExecuteTime": {
     "end_time": "2023-05-04T03:30:06.016372127Z",
     "start_time": "2023-05-04T03:30:06.012176505Z"
    }
   }
  },
  {
   "cell_type": "code",
   "execution_count": 10,
   "outputs": [],
   "source": [
    "\"\"\"\n",
    "实现二维卷积层\n",
    "\"\"\"\n",
    "class Conv2D(nn.Block):\n",
    "    def __init__(self, kernel_size, **kwargs):\n",
    "        super(Conv2D, self).__init__(**kwargs)\n",
    "        \"\"\"\n",
    "        生成这次卷积操作的，卷积核的数值，以及需要的偏置值。\n",
    "        \"\"\"\n",
    "        self.weight = self.params.get('weight', shape=kernel_size)\n",
    "        self.bias = self.params.get('bias',shape=(1,))  # 只需要一行，系统会利用广播机制扩展成契合的矩阵\n",
    "    def forward(self, x):\n",
    "        return corr2d(x, self.weight.data()) + self.bias.data()\n"
   ],
   "metadata": {
    "collapsed": false,
    "ExecuteTime": {
     "end_time": "2023-05-04T03:40:37.876917238Z",
     "start_time": "2023-05-04T03:40:37.836718348Z"
    }
   }
  },
  {
   "cell_type": "code",
   "execution_count": null,
   "outputs": [],
   "source": [
    "\"\"\"\n",
    "应用举例\n",
    "图像中物体边缘检测\n",
    "\"\"\""
   ],
   "metadata": {
    "collapsed": false
   }
  }
 ],
 "metadata": {
  "kernelspec": {
   "display_name": "Python 3",
   "language": "python",
   "name": "python3"
  },
  "language_info": {
   "codemirror_mode": {
    "name": "ipython",
    "version": 2
   },
   "file_extension": ".py",
   "mimetype": "text/x-python",
   "name": "python",
   "nbconvert_exporter": "python",
   "pygments_lexer": "ipython2",
   "version": "2.7.6"
  }
 },
 "nbformat": 4,
 "nbformat_minor": 0
}
