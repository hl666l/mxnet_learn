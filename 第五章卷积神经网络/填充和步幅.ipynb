{
 "cells": [
  {
   "cell_type": "code",
   "execution_count": 2,
   "metadata": {
    "collapsed": true,
    "ExecuteTime": {
     "end_time": "2023-05-04T06:44:58.593080006Z",
     "start_time": "2023-05-04T06:44:58.548812970Z"
    }
   },
   "outputs": [],
   "source": [
    "from mxnet import autograd, nd\n",
    "from mxnet.gluon import nn"
   ]
  },
  {
   "cell_type": "code",
   "execution_count": 3,
   "outputs": [
    {
     "data": {
      "text/plain": "(8, 8)"
     },
     "execution_count": 3,
     "metadata": {},
     "output_type": "execute_result"
    }
   ],
   "source": [
    "def comp_conv2d(conv2d, x):\n",
    "    conv2d.initialize()  # 网络初始化\n",
    "    x = x.reshape((1, 1) + x.shape)  # 把输入的数据格式转成（样本数目，通道数， 高， 宽）\n",
    "    y = conv2d(x)  # 扔进网络计算\n",
    "    return y.reshape(y.shape[2:])\n",
    "conv2d = nn.Conv2D(1, kernel_size=3, padding=1)  # 定义单层卷积网络\n",
    "x = nd.random.uniform(shape=(8,8))  # 随机生成数据\n",
    "comp_conv2d(conv2d, x).shape  # 计算"
   ],
   "metadata": {
    "collapsed": false,
    "ExecuteTime": {
     "end_time": "2023-05-04T06:51:57.857193873Z",
     "start_time": "2023-05-04T06:51:57.815930939Z"
    }
   }
  },
  {
   "cell_type": "code",
   "execution_count": 4,
   "outputs": [
    {
     "data": {
      "text/plain": "(8, 8)"
     },
     "execution_count": 4,
     "metadata": {},
     "output_type": "execute_result"
    }
   ],
   "source": [
    "\"\"\"\n",
    "卷积核，填充搭配使用获取想要的输出尺寸。\n",
    "\"\"\"\n",
    "conv2d = nn.Conv2D(1, kernel_size=(5, 3), padding=(2, 1))\n",
    "comp_conv2d(conv2d, x).shape"
   ],
   "metadata": {
    "collapsed": false,
    "ExecuteTime": {
     "end_time": "2023-05-04T07:00:56.719538919Z",
     "start_time": "2023-05-04T07:00:56.716164045Z"
    }
   }
  },
  {
   "cell_type": "code",
   "execution_count": 7,
   "outputs": [
    {
     "data": {
      "text/plain": "(4, 4)"
     },
     "execution_count": 7,
     "metadata": {},
     "output_type": "execute_result"
    }
   ],
   "source": [
    "\"\"\"\n",
    "步幅\n",
    "\"\"\"\n",
    "\"\"\"\n",
    "步幅，卷积核，填充搭配使用获取想要的尺寸。\n",
    "\"\"\"\n",
    "conv2d = nn.Conv2D(1, kernel_size=3, padding=1, strides=2)\n",
    "comp_conv2d(conv2d, x).shape"
   ],
   "metadata": {
    "collapsed": false,
    "ExecuteTime": {
     "end_time": "2023-05-04T07:04:30.646144075Z",
     "start_time": "2023-05-04T07:04:30.642200098Z"
    }
   }
  },
  {
   "cell_type": "code",
   "execution_count": 1,
   "outputs": [
    {
     "ename": "NameError",
     "evalue": "name 'nn' is not defined",
     "output_type": "error",
     "traceback": [
      "\u001B[0;31m---------------------------------------------------------------------------\u001B[0m",
      "\u001B[0;31mNameError\u001B[0m                                 Traceback (most recent call last)",
      "Cell \u001B[0;32mIn[1], line 1\u001B[0m\n\u001B[0;32m----> 1\u001B[0m conv2d \u001B[38;5;241m=\u001B[39m \u001B[43mnn\u001B[49m\u001B[38;5;241m.\u001B[39mConv2D(\u001B[38;5;241m1\u001B[39m, kernel_size\u001B[38;5;241m=\u001B[39m(\u001B[38;5;241m3\u001B[39m, \u001B[38;5;241m5\u001B[39m), padding\u001B[38;5;241m=\u001B[39m(\u001B[38;5;241m0\u001B[39m,\u001B[38;5;241m1\u001B[39m), strides\u001B[38;5;241m=\u001B[39m(\u001B[38;5;241m3\u001B[39m, \u001B[38;5;241m4\u001B[39m))  \u001B[38;5;66;03m# 填充：高不填充，宽填充1列。步幅：行是3,列是4\u001B[39;00m\n\u001B[1;32m      2\u001B[0m comp_conv2d(conv2d, x)\u001B[38;5;241m.\u001B[39mshape\n",
      "\u001B[0;31mNameError\u001B[0m: name 'nn' is not defined"
     ]
    }
   ],
   "source": [
    "conv2d = nn.Conv2D(1, kernel_size=(3, 5), padding=(0,1), strides=(3, 4))  # 填充：高不填充，宽填充1列。步幅：行是3,列是4\n",
    "comp_conv2d(conv2d, x).shape"
   ],
   "metadata": {
    "collapsed": false,
    "ExecuteTime": {
     "end_time": "2023-05-04T10:29:06.619930083Z",
     "start_time": "2023-05-04T10:29:06.526999060Z"
    }
   }
  },
  {
   "cell_type": "code",
   "execution_count": null,
   "outputs": [],
   "source": [],
   "metadata": {
    "collapsed": false
   }
  }
 ],
 "metadata": {
  "kernelspec": {
   "display_name": "Python 3",
   "language": "python",
   "name": "python3"
  },
  "language_info": {
   "codemirror_mode": {
    "name": "ipython",
    "version": 2
   },
   "file_extension": ".py",
   "mimetype": "text/x-python",
   "name": "python",
   "nbconvert_exporter": "python",
   "pygments_lexer": "ipython2",
   "version": "2.7.6"
  }
 },
 "nbformat": 4,
 "nbformat_minor": 0
}
