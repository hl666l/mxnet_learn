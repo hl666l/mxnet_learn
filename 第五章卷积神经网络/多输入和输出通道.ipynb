{
 "cells": [
  {
   "cell_type": "code",
   "execution_count": 11,
   "metadata": {
    "collapsed": true,
    "ExecuteTime": {
     "end_time": "2023-05-04T07:58:07.816814810Z",
     "start_time": "2023-05-04T07:58:07.774043299Z"
    }
   },
   "outputs": [
    {
     "data": {
      "text/plain": "\n[[ 56.  72.]\n [104. 120.]]\n<NDArray 2x2 @cpu(0)>"
     },
     "execution_count": 11,
     "metadata": {},
     "output_type": "execute_result"
    }
   ],
   "source": [
    "import d2lzh as d2l\n",
    "from mxnet import nd\n",
    "\n",
    "\"\"\"\n",
    "多输入通道，单输出通道\n",
    "\"\"\"\n",
    "def corr2d_multi_in(X, K):\n",
    "    \"\"\"\n",
    "    :param X:\n",
    "    :param K: 核\n",
    "    :return: 计算后的多通道图片\n",
    "    \"\"\"\n",
    "    \"\"\"\n",
    "    先按照x,k的第0维（通道维）遍历x,k。得到每个通道的图片。\n",
    "    ---> 卷积层d2l.corr2d(x, k) --->输出一张单通道图片。因为有for循环故会产生多张单通道图片，通过nd.add_n()将他们数值相加。得到一张单通道图片\n",
    "    \"\"\"\n",
    "    return nd.add_n(*[d2l.corr2d(x, k) for x, k in zip(X, K)])\n",
    "x = nd.array([[[0,1,2], [3,4,5],[6,7,8]], [[1,2,3], [4,5,6],[7,8,9]]])  # (2,3,3)\n",
    "k = nd.array([[[0,1],[2,3]],[[1,2], [3,4]]])  # (2,2,2)\n",
    "corr2d_multi_in(x, k)"
   ]
  },
  {
   "cell_type": "code",
   "execution_count": 3,
   "outputs": [
    {
     "data": {
      "text/plain": "(3, 2, 2, 2)"
     },
     "execution_count": 3,
     "metadata": {},
     "output_type": "execute_result"
    }
   ],
   "source": [
    "\"\"\"\n",
    "多输出通道\n",
    "\"\"\"\n",
    "def corr2d_multi_in_out(x, K):\n",
    "    return nd.stack(*[corr2d_multi_in(x,k) for k in K])  # 通过nd.stack()将多张单通道图片叠加成一张多通道图片\n",
    "k = nd.stack(k, k+1, k+2)\n",
    "k.shape"
   ],
   "metadata": {
    "collapsed": false,
    "ExecuteTime": {
     "end_time": "2023-05-04T07:19:03.337086897Z",
     "start_time": "2023-05-04T07:19:03.293003672Z"
    }
   }
  },
  {
   "cell_type": "code",
   "execution_count": 4,
   "outputs": [
    {
     "data": {
      "text/plain": "\n[[[ 56.  72.]\n  [104. 120.]]\n\n [[ 76. 100.]\n  [148. 172.]]\n\n [[ 96. 128.]\n  [192. 224.]]]\n<NDArray 3x2x2 @cpu(0)>"
     },
     "execution_count": 4,
     "metadata": {},
     "output_type": "execute_result"
    }
   ],
   "source": [
    "corr2d_multi_in_out(x, k)"
   ],
   "metadata": {
    "collapsed": false,
    "ExecuteTime": {
     "end_time": "2023-05-04T07:19:29.790301188Z",
     "start_time": "2023-05-04T07:19:29.779828609Z"
    }
   }
  },
  {
   "cell_type": "code",
   "execution_count": 8,
   "outputs": [],
   "source": [
    "\"\"\"\n",
    "1x1卷积层\n",
    "\"\"\"\n",
    "def corr2d_multi_in_out_1x1(x, k):\n",
    "    c_i, h, w = x.shape\n",
    "    c_o = k.shape[0]  # 通道数\n",
    "    x = x.reshape((c_i, h*w))  # 每个通道的图片拉成一行\n",
    "    k = k.reshape((c_o, c_i))  # 生成c_o行 c_i列权重\n",
    "    y = nd.dot(k, x)  # 点积\n",
    "    return y.reshape((c_o, h, w))  # 还原成这种格式"
   ],
   "metadata": {
    "collapsed": false,
    "ExecuteTime": {
     "end_time": "2023-05-04T07:26:36.424922034Z",
     "start_time": "2023-05-04T07:26:36.381033775Z"
    }
   }
  },
  {
   "cell_type": "code",
   "execution_count": 9,
   "outputs": [
    {
     "data": {
      "text/plain": "True"
     },
     "execution_count": 9,
     "metadata": {},
     "output_type": "execute_result"
    }
   ],
   "source": [
    "\"\"\"\n",
    "验证\n",
    "\"\"\"\n",
    "x = nd.random.uniform(shape=(3, 3, 3))\n",
    "k = nd.random.uniform(shape=(2, 3, 1, 1))\n",
    "\n",
    "y1 = corr2d_multi_in_out_1x1(x,k)\n",
    "y2 = corr2d_multi_in_out(x, k)\n",
    "(y1-y2).norm().asscalar() < 1e-6"
   ],
   "metadata": {
    "collapsed": false,
    "ExecuteTime": {
     "end_time": "2023-05-04T07:26:38.629369207Z",
     "start_time": "2023-05-04T07:26:38.613828314Z"
    }
   }
  },
  {
   "cell_type": "code",
   "execution_count": 17,
   "outputs": [
    {
     "data": {
      "text/plain": "(2, 3, 3)"
     },
     "execution_count": 17,
     "metadata": {},
     "output_type": "execute_result"
    }
   ],
   "source": [
    "y1.shape"
   ],
   "metadata": {
    "collapsed": false,
    "ExecuteTime": {
     "end_time": "2023-05-04T08:25:06.356866953Z",
     "start_time": "2023-05-04T08:25:06.313489221Z"
    }
   }
  },
  {
   "cell_type": "code",
   "execution_count": null,
   "outputs": [],
   "source": [],
   "metadata": {
    "collapsed": false
   }
  }
 ],
 "metadata": {
  "kernelspec": {
   "display_name": "Python 3",
   "language": "python",
   "name": "python3"
  },
  "language_info": {
   "codemirror_mode": {
    "name": "ipython",
    "version": 2
   },
   "file_extension": ".py",
   "mimetype": "text/x-python",
   "name": "python",
   "nbconvert_exporter": "python",
   "pygments_lexer": "ipython2",
   "version": "2.7.6"
  }
 },
 "nbformat": 4,
 "nbformat_minor": 0
}
