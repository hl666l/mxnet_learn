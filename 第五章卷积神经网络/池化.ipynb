{
 "cells": [
  {
   "cell_type": "code",
   "execution_count": 1,
   "metadata": {
    "collapsed": true,
    "ExecuteTime": {
     "end_time": "2023-05-04T10:37:37.243474661Z",
     "start_time": "2023-05-04T10:37:36.538604262Z"
    }
   },
   "outputs": [],
   "source": [
    "from mxnet import  nd\n",
    "from mxnet.gluon import nn\n",
    "def pool2d(x, pool_size, mode='max'):\n",
    "    p_h, p_w = pool_size\n",
    "    y = nd.zeros((x.shape[0] - p_h + 1, x.shape[1] - p_w + 1))\n",
    "    for i in range(y.shape[0]):\n",
    "        for j in range(y.shape[0]):\n",
    "            if mode == 'max':\n",
    "                y[i, j] = x[i: i+p_h, j:j+p_w].max()\n",
    "            elif mode == 'avg':\n",
    "                y[i, j] = x[i: i+p_h, j:j+p_w].mean()\n",
    "    return y"
   ]
  },
  {
   "cell_type": "code",
   "execution_count": 2,
   "outputs": [
    {
     "data": {
      "text/plain": "\n[[4. 5.]\n [7. 8.]]\n<NDArray 2x2 @cpu(0)>"
     },
     "execution_count": 2,
     "metadata": {},
     "output_type": "execute_result"
    }
   ],
   "source": [
    "x = nd.array([[0,1,2], [3,4,5], [6,7,8]])\n",
    "pool2d(x, (2,2))"
   ],
   "metadata": {
    "collapsed": false,
    "ExecuteTime": {
     "end_time": "2023-05-04T10:38:29.797936375Z",
     "start_time": "2023-05-04T10:38:29.786227377Z"
    }
   }
  },
  {
   "cell_type": "code",
   "execution_count": 3,
   "outputs": [
    {
     "data": {
      "text/plain": "\n[[2. 3.]\n [5. 6.]]\n<NDArray 2x2 @cpu(0)>"
     },
     "execution_count": 3,
     "metadata": {},
     "output_type": "execute_result"
    }
   ],
   "source": [
    "pool2d(x, (2,2), 'avg')"
   ],
   "metadata": {
    "collapsed": false,
    "ExecuteTime": {
     "end_time": "2023-05-04T10:38:55.032722153Z",
     "start_time": "2023-05-04T10:38:55.028214282Z"
    }
   }
  },
  {
   "cell_type": "code",
   "execution_count": null,
   "outputs": [],
   "source": [
    "\"\"\"\n",
    "填充和步幅\n",
    "\"\"\"\n"
   ],
   "metadata": {
    "collapsed": false
   }
  }
 ],
 "metadata": {
  "kernelspec": {
   "display_name": "Python 3",
   "language": "python",
   "name": "python3"
  },
  "language_info": {
   "codemirror_mode": {
    "name": "ipython",
    "version": 2
   },
   "file_extension": ".py",
   "mimetype": "text/x-python",
   "name": "python",
   "nbconvert_exporter": "python",
   "pygments_lexer": "ipython2",
   "version": "2.7.6"
  }
 },
 "nbformat": 4,
 "nbformat_minor": 0
}
