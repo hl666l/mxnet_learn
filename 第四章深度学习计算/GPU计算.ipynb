{
 "cells": [
  {
   "cell_type": "code",
   "execution_count": 1,
   "metadata": {
    "collapsed": true,
    "ExecuteTime": {
     "end_time": "2023-05-04T00:33:06.842855524Z",
     "start_time": "2023-05-04T00:33:06.273453093Z"
    }
   },
   "outputs": [
    {
     "data": {
      "text/plain": "(cpu(0), gpu(0), gpu(0))"
     },
     "execution_count": 1,
     "metadata": {},
     "output_type": "execute_result"
    }
   ],
   "source": [
    "import mxnet\n",
    "import mxnet as mx\n",
    "from mxnet import nd\n",
    "from mxnet.gluon import nn\n",
    "\"\"\"\n",
    "查看计算设备\n",
    "\"\"\"\n",
    "mx.cpu(), mx.gpu(), mx.gpu(0)"
   ]
  },
  {
   "cell_type": "code",
   "execution_count": 2,
   "outputs": [
    {
     "data": {
      "text/plain": "\n[1. 2. 3.]\n<NDArray 3 @cpu(0)>"
     },
     "execution_count": 2,
     "metadata": {},
     "output_type": "execute_result"
    }
   ],
   "source": [
    "\"\"\"\n",
    "NDArray的GPU计算\n",
    "NDArray 默认是存在内存上的\n",
    "\n",
    "\"\"\"\n",
    "x = nd.array([1, 2, 3])\n",
    "x\n"
   ],
   "metadata": {
    "collapsed": false,
    "ExecuteTime": {
     "end_time": "2023-05-04T00:36:19.970069160Z",
     "start_time": "2023-05-04T00:36:19.927221506Z"
    }
   }
  },
  {
   "cell_type": "code",
   "execution_count": 3,
   "outputs": [
    {
     "data": {
      "text/plain": "cpu(0)"
     },
     "execution_count": 3,
     "metadata": {},
     "output_type": "execute_result"
    }
   ],
   "source": [
    "# 查看数据在哪个设备上\n",
    "x.context"
   ],
   "metadata": {
    "collapsed": false,
    "ExecuteTime": {
     "end_time": "2023-05-04T00:36:34.543286410Z",
     "start_time": "2023-05-04T00:36:34.540744516Z"
    }
   }
  },
  {
   "cell_type": "code",
   "execution_count": 4,
   "outputs": [
    {
     "name": "stderr",
     "output_type": "stream",
     "text": [
      "[08:38:38] /work/mxnet/src/base.cc:79: cuDNN lib mismatch: linked-against version 8801 != compiled-against version 8500.  Set MXNET_CUDNN_LIB_CHECKING=0 to quiet this warning.\n"
     ]
    },
    {
     "data": {
      "text/plain": "\n[1. 2. 3.]\n<NDArray 3 @gpu(0)>"
     },
     "execution_count": 4,
     "metadata": {},
     "output_type": "execute_result"
    }
   ],
   "source": [
    "\"\"\"\n",
    "GPU上的存储\n",
    "\"\"\"\n",
    "a = nd.array([1, 2, 3], ctx=mx.gpu())\n",
    "a"
   ],
   "metadata": {
    "collapsed": false,
    "ExecuteTime": {
     "end_time": "2023-05-04T00:38:39.660241728Z",
     "start_time": "2023-05-04T00:38:38.632917755Z"
    }
   }
  },
  {
   "cell_type": "code",
   "execution_count": 5,
   "outputs": [
    {
     "data": {
      "text/plain": "\n[1. 2. 3.]\n<NDArray 3 @gpu(0)>"
     },
     "execution_count": 5,
     "metadata": {},
     "output_type": "execute_result"
    }
   ],
   "source": [
    "\"\"\"\n",
    "使用copyto函数将内存上的数据移动到gpu上，为目标变量y 开新的内存或显存。\n",
    "\"\"\"\n",
    "y = x.copyto(mx.gpu())\n",
    "y"
   ],
   "metadata": {
    "collapsed": false,
    "ExecuteTime": {
     "end_time": "2023-05-04T00:47:23.629603168Z",
     "start_time": "2023-05-04T00:47:23.618917839Z"
    }
   }
  },
  {
   "cell_type": "code",
   "execution_count": 6,
   "outputs": [
    {
     "data": {
      "text/plain": "\n[1. 2. 3.]\n<NDArray 3 @gpu(0)>"
     },
     "execution_count": 6,
     "metadata": {},
     "output_type": "execute_result"
    }
   ],
   "source": [
    "# 源变量和目标变量的context一致， as_in_context函数使目标变量和源变量共享源变量的内存或显存\n",
    "z = x.as_in_context(mx.gpu())\n",
    "z"
   ],
   "metadata": {
    "collapsed": false,
    "ExecuteTime": {
     "end_time": "2023-05-04T00:48:24.326964260Z",
     "start_time": "2023-05-04T00:48:24.319635844Z"
    }
   }
  },
  {
   "cell_type": "code",
   "execution_count": 7,
   "outputs": [
    {
     "data": {
      "text/plain": "True"
     },
     "execution_count": 7,
     "metadata": {},
     "output_type": "execute_result"
    }
   ],
   "source": [
    "y.as_in_context(mx.gpu()) is y"
   ],
   "metadata": {
    "collapsed": false,
    "ExecuteTime": {
     "end_time": "2023-05-04T00:49:00.462678179Z",
     "start_time": "2023-05-04T00:49:00.459152197Z"
    }
   }
  },
  {
   "cell_type": "code",
   "execution_count": 8,
   "outputs": [
    {
     "data": {
      "text/plain": "\n[ 20.085537 109.1963   445.2395  ]\n<NDArray 3 @gpu(0)>"
     },
     "execution_count": 8,
     "metadata": {},
     "output_type": "execute_result"
    }
   ],
   "source": [
    "\"\"\"\n",
    "GPU上的计算\n",
    "mxnet会根据数据的context属性所指的设备上执行。mxnet要求计算的所有数据都在同一个设备上。\n",
    "\"\"\"\n",
    "(z + 2).exp() * y"
   ],
   "metadata": {
    "collapsed": false,
    "ExecuteTime": {
     "end_time": "2023-05-04T00:55:59.748597251Z",
     "start_time": "2023-05-04T00:55:58.697131250Z"
    }
   }
  },
  {
   "cell_type": "code",
   "execution_count": 9,
   "outputs": [
    {
     "data": {
      "text/plain": "\n[[0.0068339 ]\n [0.01366779]\n [0.02050169]]\n<NDArray 3x1 @gpu(0)>"
     },
     "execution_count": 9,
     "metadata": {},
     "output_type": "execute_result"
    }
   ],
   "source": [
    "\"\"\"\n",
    "Gluon 的GPU计算\n",
    "\"\"\"\n",
    "net = nn.Sequential()\n",
    "net.add(nn.Dense(1))\n",
    "net.initialize(ctx=mx.gpu())  # 将模型初始化到GPU上\n",
    "net(y)"
   ],
   "metadata": {
    "collapsed": false,
    "ExecuteTime": {
     "end_time": "2023-05-04T00:59:31.287511698Z",
     "start_time": "2023-05-04T00:59:31.267139030Z"
    }
   }
  },
  {
   "cell_type": "code",
   "execution_count": 10,
   "outputs": [
    {
     "data": {
      "text/plain": "\n[[0.0068339]]\n<NDArray 1x1 @gpu(0)>"
     },
     "execution_count": 10,
     "metadata": {},
     "output_type": "execute_result"
    }
   ],
   "source": [
    "net[0].weight.data()"
   ],
   "metadata": {
    "collapsed": false,
    "ExecuteTime": {
     "end_time": "2023-05-04T01:01:14.693992897Z",
     "start_time": "2023-05-04T01:01:14.652598911Z"
    }
   }
  },
  {
   "cell_type": "code",
   "execution_count": null,
   "outputs": [],
   "source": [],
   "metadata": {
    "collapsed": false
   }
  }
 ],
 "metadata": {
  "kernelspec": {
   "display_name": "Python 3",
   "language": "python",
   "name": "python3"
  },
  "language_info": {
   "codemirror_mode": {
    "name": "ipython",
    "version": 2
   },
   "file_extension": ".py",
   "mimetype": "text/x-python",
   "name": "python",
   "nbconvert_exporter": "python",
   "pygments_lexer": "ipython2",
   "version": "2.7.6"
  }
 },
 "nbformat": 4,
 "nbformat_minor": 0
}
