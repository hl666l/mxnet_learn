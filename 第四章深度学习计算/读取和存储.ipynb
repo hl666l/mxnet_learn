{
 "cells": [
  {
   "cell_type": "code",
   "execution_count": 1,
   "metadata": {
    "collapsed": true,
    "ExecuteTime": {
     "end_time": "2023-05-04T00:11:07.431915089Z",
     "start_time": "2023-05-04T00:11:06.730371583Z"
    }
   },
   "outputs": [],
   "source": [
    "from mxnet import nd\n",
    "from mxnet.gluon import nn\n"
   ]
  },
  {
   "cell_type": "code",
   "execution_count": 3,
   "outputs": [],
   "source": [
    "\"\"\"\n",
    "读写NDArray.直接使用save, load函数\n",
    "\"\"\"\n",
    "x = nd.ones(3)\n",
    "nd.save('x', x)  # 将x存入名为x的文件中"
   ],
   "metadata": {
    "collapsed": false,
    "ExecuteTime": {
     "end_time": "2023-05-04T00:13:54.897987749Z",
     "start_time": "2023-05-04T00:13:54.855868001Z"
    }
   }
  },
  {
   "cell_type": "code",
   "execution_count": 4,
   "outputs": [
    {
     "data": {
      "text/plain": "[\n [1. 1. 1.]\n <NDArray 3 @cpu(0)>]"
     },
     "execution_count": 4,
     "metadata": {},
     "output_type": "execute_result"
    }
   ],
   "source": [
    "x2 = nd.load('x')  # 将文件x的数据读取到x2中\n",
    "x2"
   ],
   "metadata": {
    "collapsed": false,
    "ExecuteTime": {
     "end_time": "2023-05-04T00:14:15.470121292Z",
     "start_time": "2023-05-04T00:14:15.460151865Z"
    }
   }
  },
  {
   "cell_type": "code",
   "execution_count": 5,
   "outputs": [
    {
     "data": {
      "text/plain": "(\n [1. 1. 1.]\n <NDArray 3 @cpu(0)>,\n \n [0. 0. 0. 0.]\n <NDArray 4 @cpu(0)>)"
     },
     "execution_count": 5,
     "metadata": {},
     "output_type": "execute_result"
    }
   ],
   "source": [
    "y = nd.zeros(4)\n",
    "nd.save('xy', [x, y])  # 将x,y存入xy中\n",
    "x2, y2 = nd.load('xy')  # 加载到x2, y2中\n",
    "(x2, y2)"
   ],
   "metadata": {
    "collapsed": false,
    "ExecuteTime": {
     "end_time": "2023-05-04T00:16:21.954091114Z",
     "start_time": "2023-05-04T00:16:21.911860729Z"
    }
   }
  },
  {
   "cell_type": "code",
   "execution_count": 6,
   "outputs": [
    {
     "data": {
      "text/plain": "{'x': \n [1. 1. 1.]\n <NDArray 3 @cpu(0)>,\n 'y': \n [0. 0. 0. 0.]\n <NDArray 4 @cpu(0)>}"
     },
     "execution_count": 6,
     "metadata": {},
     "output_type": "execute_result"
    }
   ],
   "source": [
    "\"\"\"\n",
    "存储并读取一个从字符串映射到NDArray的字典\n",
    "\"\"\"\n",
    "mydict = {'x':x,'y':y}\n",
    "nd.save('mydict',mydict)\n",
    "mydict2 = nd.load('mydict')\n",
    "mydict2\n"
   ],
   "metadata": {
    "collapsed": false,
    "ExecuteTime": {
     "end_time": "2023-05-04T00:20:04.553879510Z",
     "start_time": "2023-05-04T00:20:04.512077477Z"
    }
   }
  },
  {
   "cell_type": "code",
   "execution_count": 7,
   "outputs": [],
   "source": [
    "\"\"\"\n",
    "读写Gluon模型的参数\n",
    "\"\"\"\n",
    "class MLP(nn.Block):\n",
    "    def __init__(self):\n",
    "        super(MLP, self).__init__()\n",
    "        self.hidden = nn.Dense(256, activation='relu')\n",
    "        self.output = nn.Dense(10)\n",
    "\n",
    "    def forward(self, x):\n",
    "        return self.output(self.hidden(x))\n",
    "\n",
    "net = MLP()\n",
    "net.initialize()\n",
    "x = nd.random.uniform(shape=(2, 20))\n",
    "y = net(x)\n",
    "filename = 'mlp.params'\n",
    "net.save_parameters(filename)"
   ],
   "metadata": {
    "collapsed": false,
    "ExecuteTime": {
     "end_time": "2023-05-04T00:25:04.625710755Z",
     "start_time": "2023-05-04T00:25:04.583796007Z"
    }
   }
  },
  {
   "cell_type": "code",
   "execution_count": 8,
   "outputs": [],
   "source": [
    "net2 = MLP()\n",
    "net2.load_parameters(filename)"
   ],
   "metadata": {
    "collapsed": false,
    "ExecuteTime": {
     "end_time": "2023-05-04T00:25:53.557726839Z",
     "start_time": "2023-05-04T00:25:53.516649227Z"
    }
   }
  },
  {
   "cell_type": "code",
   "execution_count": 9,
   "outputs": [
    {
     "data": {
      "text/plain": "\n[[1. 1. 1. 1. 1. 1. 1. 1. 1. 1.]\n [1. 1. 1. 1. 1. 1. 1. 1. 1. 1.]]\n<NDArray 2x10 @cpu(0)>"
     },
     "execution_count": 9,
     "metadata": {},
     "output_type": "execute_result"
    }
   ],
   "source": [
    "y2 = net2(x)\n",
    "y2 == y"
   ],
   "metadata": {
    "collapsed": false,
    "ExecuteTime": {
     "end_time": "2023-05-04T00:26:13.389931250Z",
     "start_time": "2023-05-04T00:26:13.348578666Z"
    }
   }
  },
  {
   "cell_type": "code",
   "execution_count": null,
   "outputs": [],
   "source": [],
   "metadata": {
    "collapsed": false
   }
  }
 ],
 "metadata": {
  "kernelspec": {
   "display_name": "Python 3",
   "language": "python",
   "name": "python3"
  },
  "language_info": {
   "codemirror_mode": {
    "name": "ipython",
    "version": 2
   },
   "file_extension": ".py",
   "mimetype": "text/x-python",
   "name": "python",
   "nbconvert_exporter": "python",
   "pygments_lexer": "ipython2",
   "version": "2.7.6"
  }
 },
 "nbformat": 4,
 "nbformat_minor": 0
}
